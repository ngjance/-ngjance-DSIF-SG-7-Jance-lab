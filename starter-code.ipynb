{
 "cells": [
  {
   "cell_type": "markdown",
   "metadata": {},
   "source": [
    "## 6.01 - Supervised Learning Model Comparison\n",
    "\n",
    "Recall the \"data science process.\"\n",
    "\n",
    "1. Define the problem.\n",
    "2. Gather the data.\n",
    "3. Explore the data.\n",
    "4. Model the data.\n",
    "5. Evaluate the model.\n",
    "6. Answer the problem.\n",
    "\n",
    "In this lab, we're going to focus mostly on creating (and then comparing) many regression and classification models. Thus, we'll define the problem and gather the data for you.\n",
    "Most of the questions requiring a written response can be written in 2-3 sentences."
   ]
  },
  {
   "cell_type": "markdown",
   "metadata": {},
   "source": [
    "### Step 1: Define the problem.\n",
    "\n",
    "You are a data scientist with a financial services company. Specifically, you want to leverage data in order to identify potential customers.\n",
    "\n",
    "If you are unfamiliar with \"401(k)s\" or \"IRAs,\" these are two types of retirement accounts. Very broadly speaking:\n",
    "- You can put money for retirement into both of these accounts.\n",
    "- The money in these accounts gets invested and hopefully has a lot more money in it when you retire.\n",
    "- These are a little different from regular bank accounts in that there are certain tax benefits to these accounts. Also, employers frequently match money that you put into a 401k.\n",
    "- If you want to learn more about them, check out [this site](https://www.nerdwallet.com/article/ira-vs-401k-retirement-accounts).\n",
    "\n",
    "We will tackle one regression problem and one classification problem today.\n",
    "- Regression: What features best predict one's income?\n",
    "- Classification: Predict whether or not one is eligible for a 401k.\n",
    "\n",
    "Check out the data dictionary [here](http://fmwww.bc.edu/ec-p/data/wooldridge2k/401KSUBS.DES).\n",
    "\n",
    "### NOTE: When predicting `inc`, you should pretend as though you do not have access to the `e401k`, the `p401k` variable, and the `pira` variable. When predicting `e401k`, you may use the entire dataframe if you wish."
   ]
  },
  {
   "cell_type": "markdown",
   "metadata": {},
   "source": [
    "### Step 2: Gather the data.\n",
    "\n",
    "##### 1. Read in the data from the repository."
   ]
  },
  {
   "cell_type": "code",
   "execution_count": 1,
   "metadata": {
    "scrolled": true
   },
   "outputs": [
    {
     "data": {
      "text/html": [
       "<div>\n",
       "<style scoped>\n",
       "    .dataframe tbody tr th:only-of-type {\n",
       "        vertical-align: middle;\n",
       "    }\n",
       "\n",
       "    .dataframe tbody tr th {\n",
       "        vertical-align: top;\n",
       "    }\n",
       "\n",
       "    .dataframe thead th {\n",
       "        text-align: right;\n",
       "    }\n",
       "</style>\n",
       "<table border=\"1\" class=\"dataframe\">\n",
       "  <thead>\n",
       "    <tr style=\"text-align: right;\">\n",
       "      <th></th>\n",
       "      <th>e401k</th>\n",
       "      <th>inc</th>\n",
       "      <th>marr</th>\n",
       "      <th>male</th>\n",
       "      <th>age</th>\n",
       "      <th>fsize</th>\n",
       "      <th>nettfa</th>\n",
       "      <th>p401k</th>\n",
       "      <th>pira</th>\n",
       "      <th>incsq</th>\n",
       "      <th>agesq</th>\n",
       "    </tr>\n",
       "  </thead>\n",
       "  <tbody>\n",
       "    <tr>\n",
       "      <th>0</th>\n",
       "      <td>0</td>\n",
       "      <td>13.170</td>\n",
       "      <td>0</td>\n",
       "      <td>0</td>\n",
       "      <td>40</td>\n",
       "      <td>1</td>\n",
       "      <td>4.575</td>\n",
       "      <td>0</td>\n",
       "      <td>1</td>\n",
       "      <td>173.4489</td>\n",
       "      <td>1600</td>\n",
       "    </tr>\n",
       "    <tr>\n",
       "      <th>1</th>\n",
       "      <td>1</td>\n",
       "      <td>61.230</td>\n",
       "      <td>0</td>\n",
       "      <td>1</td>\n",
       "      <td>35</td>\n",
       "      <td>1</td>\n",
       "      <td>154.000</td>\n",
       "      <td>1</td>\n",
       "      <td>0</td>\n",
       "      <td>3749.1130</td>\n",
       "      <td>1225</td>\n",
       "    </tr>\n",
       "    <tr>\n",
       "      <th>2</th>\n",
       "      <td>0</td>\n",
       "      <td>12.858</td>\n",
       "      <td>1</td>\n",
       "      <td>0</td>\n",
       "      <td>44</td>\n",
       "      <td>2</td>\n",
       "      <td>0.000</td>\n",
       "      <td>0</td>\n",
       "      <td>0</td>\n",
       "      <td>165.3282</td>\n",
       "      <td>1936</td>\n",
       "    </tr>\n",
       "    <tr>\n",
       "      <th>3</th>\n",
       "      <td>0</td>\n",
       "      <td>98.880</td>\n",
       "      <td>1</td>\n",
       "      <td>1</td>\n",
       "      <td>44</td>\n",
       "      <td>2</td>\n",
       "      <td>21.800</td>\n",
       "      <td>0</td>\n",
       "      <td>0</td>\n",
       "      <td>9777.2540</td>\n",
       "      <td>1936</td>\n",
       "    </tr>\n",
       "    <tr>\n",
       "      <th>4</th>\n",
       "      <td>0</td>\n",
       "      <td>22.614</td>\n",
       "      <td>0</td>\n",
       "      <td>0</td>\n",
       "      <td>53</td>\n",
       "      <td>1</td>\n",
       "      <td>18.450</td>\n",
       "      <td>0</td>\n",
       "      <td>0</td>\n",
       "      <td>511.3930</td>\n",
       "      <td>2809</td>\n",
       "    </tr>\n",
       "  </tbody>\n",
       "</table>\n",
       "</div>"
      ],
      "text/plain": [
       "   e401k     inc  marr  male  age  fsize   nettfa  p401k  pira      incsq  \\\n",
       "0      0  13.170     0     0   40      1    4.575      0     1   173.4489   \n",
       "1      1  61.230     0     1   35      1  154.000      1     0  3749.1130   \n",
       "2      0  12.858     1     0   44      2    0.000      0     0   165.3282   \n",
       "3      0  98.880     1     1   44      2   21.800      0     0  9777.2540   \n",
       "4      0  22.614     0     0   53      1   18.450      0     0   511.3930   \n",
       "\n",
       "   agesq  \n",
       "0   1600  \n",
       "1   1225  \n",
       "2   1936  \n",
       "3   1936  \n",
       "4   2809  "
      ]
     },
     "execution_count": 1,
     "metadata": {},
     "output_type": "execute_result"
    }
   ],
   "source": [
    "import pandas as pd\n",
    "df=pd.read_csv('../6_01-lab-supervised-learning-models/401ksubs.csv')\n",
    "df.head()"
   ]
  },
  {
   "cell_type": "code",
   "execution_count": 2,
   "metadata": {},
   "outputs": [
    {
     "name": "stdout",
     "output_type": "stream",
     "text": [
      "<class 'pandas.core.frame.DataFrame'>\n",
      "RangeIndex: 9275 entries, 0 to 9274\n",
      "Data columns (total 11 columns):\n",
      " #   Column  Non-Null Count  Dtype  \n",
      "---  ------  --------------  -----  \n",
      " 0   e401k   9275 non-null   int64  \n",
      " 1   inc     9275 non-null   float64\n",
      " 2   marr    9275 non-null   int64  \n",
      " 3   male    9275 non-null   int64  \n",
      " 4   age     9275 non-null   int64  \n",
      " 5   fsize   9275 non-null   int64  \n",
      " 6   nettfa  9275 non-null   float64\n",
      " 7   p401k   9275 non-null   int64  \n",
      " 8   pira    9275 non-null   int64  \n",
      " 9   incsq   9275 non-null   float64\n",
      " 10  agesq   9275 non-null   int64  \n",
      "dtypes: float64(3), int64(8)\n",
      "memory usage: 797.2 KB\n"
     ]
    }
   ],
   "source": [
    "df.info()"
   ]
  },
  {
   "cell_type": "markdown",
   "metadata": {},
   "source": [
    "##### 2. What are 2-3 other variables that, if available, would be helpful to have?"
   ]
  },
  {
   "cell_type": "markdown",
   "metadata": {
    "collapsed": true
   },
   "source": [
    "1. Number of dependants - More dependants, likely to have less funds for investments\n",
    "2. Occupations or Industry of work - If they are working in customer service sector versus Finance, unlikely to be interested in investment\n",
    "3. Highest level of education - the more educated, the higher the likelihood to know and understand about investment"
   ]
  },
  {
   "cell_type": "markdown",
   "metadata": {},
   "source": [
    "##### 3. Suppose a peer recommended putting `race` into your model in order to better predict who to target when advertising IRAs and 401(k)s. Why would this be an unethical decision?"
   ]
  },
  {
   "cell_type": "markdown",
   "metadata": {
    "collapsed": true
   },
   "source": [
    "It might be discriminating to certain race as it might suggest that only a certain race is/are interested in to invest in IRAs and 401k."
   ]
  },
  {
   "cell_type": "markdown",
   "metadata": {},
   "source": [
    "## Step 3: Explore the data.\n",
    "\n",
    "##### 4. When attempting to predict income, which feature(s) would we reasonably not use? Why?"
   ]
  },
  {
   "cell_type": "markdown",
   "metadata": {
    "collapsed": true
   },
   "source": [
    "Family size and marital status, as it is to have a lower correlation with income."
   ]
  },
  {
   "cell_type": "markdown",
   "metadata": {},
   "source": [
    "##### 5. What two variables have already been created for us through feature engineering? Come up with a hypothesis as to why subject-matter experts may have done this.\n",
    "> This need not be a \"statistical hypothesis.\" Just brainstorm why SMEs might have done this!"
   ]
  },
  {
   "cell_type": "markdown",
   "metadata": {
    "collapsed": true
   },
   "source": [
    "incsq and agesq. SMEs might have done it because they expected income and age to have a non-linear relationship. "
   ]
  },
  {
   "cell_type": "markdown",
   "metadata": {},
   "source": [
    "##### 6. Looking at the data dictionary, one variable description appears to be an error. What is this error, and what do you think the correct value would be?"
   ]
  },
  {
   "cell_type": "markdown",
   "metadata": {
    "collapsed": true
   },
   "source": [
    "INC looks like it is in per $1000"
   ]
  },
  {
   "cell_type": "markdown",
   "metadata": {},
   "source": [
    "## Step 4: Model the data. (Part 1: Regression Problem)\n",
    "\n",
    "Recall:\n",
    "- Problem: What features best predict one's income?\n",
    "- When predicting `inc`, you should pretend as though you do not have access to the `e401k`, the `p401k` variable, and the `pira` variable.\n",
    "\n",
    "##### 7. List all modeling tactics we've learned that could be used to solve a regression problem (as of Wednesday afternoon of Week 6). For each tactic, identify whether it is or is not appropriate for solving this specific regression problem and explain why or why not."
   ]
  },
  {
   "cell_type": "markdown",
   "metadata": {
    "collapsed": true
   },
   "source": [
    "- LogisticRegression\n",
    "- KNN\n",
    "- Decision Tree\n",
    "- Random Forest\n",
    "- Bagging\n",
    "- AdaBoost\n",
    "- SVC"
   ]
  },
  {
   "cell_type": "markdown",
   "metadata": {},
   "source": [
    "##### 8. Regardless of your answer to number 7, fit at least one of each of the following models to attempt to solve the regression problem above:\n",
    "    - a multiple linear regression model\n",
    "    - a k-nearest neighbors model\n",
    "    - a decision tree\n",
    "    - a set of bagged decision trees\n",
    "    - a random forest\n",
    "    - an Adaboost model\n",
    "    - a support vector regressor\n",
    "    \n",
    "> As always, be sure to do a train/test split! In order to compare modeling techniques, you should use the same train-test split on each. I recommend setting a random seed here.\n",
    "\n",
    "> You may find it helpful to set up a pipeline to try each modeling technique, but you are not required to do so!"
   ]
  },
  {
   "cell_type": "code",
   "execution_count": 3,
   "metadata": {},
   "outputs": [],
   "source": [
    "from sklearn.linear_model import LinearRegression, LogisticRegression\n",
    "from sklearn.model_selection import train_test_split, cross_val_score, KFold\n",
    "from sklearn.preprocessing import StandardScaler\n",
    "from sklearn.pipeline import Pipeline\n",
    "from sklearn.neighbors import KNeighborsRegressor\n",
    "from sklearn.tree import DecisionTreeRegressor\n",
    "from sklearn.ensemble import RandomForestRegressor, BaggingRegressor, AdaBoostRegressor\n",
    "from sklearn.svm import SVR\n",
    "import xgboost as xgb\n",
    "import matplotlib.pyplot as plt"
   ]
  },
  {
   "cell_type": "code",
   "execution_count": 4,
   "metadata": {
    "scrolled": true
   },
   "outputs": [],
   "source": [
    "X = df.drop('inc', axis=1)\n",
    "y=df['inc']\n",
    "X_train, X_test, y_train, y_test = train_test_split(X,\n",
    "                                                    y,\n",
    "                                                    test_size=0.2,\n",
    "                                                    random_state=42)\n"
   ]
  },
  {
   "cell_type": "code",
   "execution_count": 5,
   "metadata": {},
   "outputs": [],
   "source": [
    "# Scaling\n",
    "ss=StandardScaler()\n",
    "X_train_scaled=ss.fit_transform(X_train)\n",
    "X_test_scaled=ss.fit_transform(X_test)"
   ]
  },
  {
   "cell_type": "code",
   "execution_count": 6,
   "metadata": {},
   "outputs": [],
   "source": [
    "models = {\"LinearRegression\": LinearRegression(),\n",
    "          \"KNN\": KNeighborsRegressor(),\n",
    "          \"Decision Tree\": DecisionTreeRegressor(),\n",
    "          \"Random Forest\": RandomForestRegressor(),\n",
    "          \"Bagging\": BaggingRegressor(),\n",
    "          \"AdaBoost\": AdaBoostRegressor(),\n",
    "          \"SVR\": SVR(),\n",
    "          \"XGBoost\": xgb.XGBRegressor()\n",
    "         }"
   ]
  },
  {
   "cell_type": "code",
   "execution_count": 7,
   "metadata": {},
   "outputs": [],
   "source": [
    "results = []\n",
    "for model in models.values():\n",
    "    kf = KFold(n_splits=5, random_state=42, shuffle=True)\n",
    "    cv_results = cross_val_score(model, X_train_scaled, y_train, cv=kf)\n",
    "    results.append(cv_results)"
   ]
  },
  {
   "cell_type": "code",
   "execution_count": 8,
   "metadata": {},
   "outputs": [
    {
     "name": "stdout",
     "output_type": "stream",
     "text": [
      "LinearRegression Train Set Accuracy: 0.9042657299473781 \n",
      "LinearRegression Test Set Accuracy: 0.9103274918573819 \n",
      " \n",
      "KNN Train Set Accuracy: 0.9596754578810568 \n",
      "KNN Test Set Accuracy: 0.9369819355182614 \n",
      " \n",
      "Decision Tree Train Set Accuracy: 1.0 \n",
      "Decision Tree Test Set Accuracy: 0.9980229278705459 \n",
      " \n",
      "Random Forest Train Set Accuracy: 0.999989832777585 \n",
      "Random Forest Test Set Accuracy: 0.9980696616884012 \n",
      " \n",
      "Bagging Train Set Accuracy: 0.9999728432298366 \n",
      "Bagging Test Set Accuracy: 0.9979743116818105 \n",
      " \n",
      "AdaBoost Train Set Accuracy: 0.9920645524395331 \n",
      "AdaBoost Test Set Accuracy: 0.9928682109605583 \n",
      " \n",
      "SVR Train Set Accuracy: 0.878930227408786 \n",
      "SVR Test Set Accuracy: 0.8575650813565883 \n",
      " \n",
      "XGBoost Train Set Accuracy: 0.9999918822087891 \n",
      "XGBoost Test Set Accuracy: 0.9980641301734868 \n",
      " \n"
     ]
    }
   ],
   "source": [
    "for name, model in models.items():\n",
    "    model.fit(X_train_scaled, y_train)\n",
    "    train_score = model.score(X_train_scaled, y_train)\n",
    "    test_score = model.score(X_test_scaled, y_test)\n",
    "    print(f\"{name} Train Set Accuracy: {train_score} \\n{name} Test Set Accuracy: {test_score} \\n \")\n"
   ]
  },
  {
   "cell_type": "code",
   "execution_count": 9,
   "metadata": {},
   "outputs": [
    {
     "data": {
      "image/png": "[encoded data removed]",
      "text/plain": [
       "<Figure size 432x288 with 1 Axes>"
      ]
     },
     "metadata": {
      "needs_background": "light"
     },
     "output_type": "display_data"
    }
   ],
   "source": [
    "plt.boxplot(results, labels=models.keys())\n",
    "plt.show()"
   ]
  },
  {
   "cell_type": "markdown",
   "metadata": {},
   "source": [
    "##### 9. What is bootstrapping?"
   ]
  },
  {
   "cell_type": "markdown",
   "metadata": {
    "collapsed": true
   },
   "source": [
    "Bootstrapping is a resampling technique that involves repeatedly drawing samples from our source data with replacement, often to estimate a population parameter."
   ]
  },
  {
   "cell_type": "markdown",
   "metadata": {},
   "source": [
    "##### 10. What is the difference between a decision tree and a set of bagged decision trees? Be specific and precise!"
   ]
  },
  {
   "cell_type": "markdown",
   "metadata": {
    "collapsed": true
   },
   "source": [
    "A decision tree categorize or make predictions based on how a previous set of questions were answered.<br>\n",
    "Bagging is an ensemble algorithm that fits multiple models on different subsets of a training dataset, then combines the predictions from all models."
   ]
  },
  {
   "cell_type": "markdown",
   "metadata": {},
   "source": [
    "##### 11. What is the difference between a set of bagged decision trees and a random forest? Be specific and precise!"
   ]
  },
  {
   "cell_type": "markdown",
   "metadata": {
    "collapsed": true
   },
   "source": [
    "Bagging is an ensemble algorithm that fits multiple models on different subsets of a training dataset, then combines the predictions from all models.<br>\n",
    "Random forest is an extension of bagging that also randomly selects subsets of features used in each data sample."
   ]
  },
  {
   "cell_type": "markdown",
   "metadata": {},
   "source": [
    "##### 12. Why might a random forest be superior to a set of bagged decision trees?\n",
    "> Hint: Consider the bias-variance tradeoff."
   ]
  },
  {
   "cell_type": "markdown",
   "metadata": {},
   "source": [
    "Bagging reduces variance whereas boosting reduces bias"
   ]
  },
  {
   "cell_type": "markdown",
   "metadata": {},
   "source": [
    "## Step 5: Evaluate the model. (Part 1: Regression Problem)\n",
    "\n",
    "##### 13. Using RMSE, evaluate each of the models you fit on both the training and testing data."
   ]
  },
  {
   "cell_type": "code",
   "execution_count": 10,
   "metadata": {
    "scrolled": false
   },
   "outputs": [
    {
     "name": "stdout",
     "output_type": "stream",
     "text": [
      "LinearRegression Training RMSE: 7.417805263260388 \n",
      "LinearRegression Testing RMSE: 7.349160927058248 \n",
      " \n",
      "KNN Training RMSE: 4.81422556749834 \n",
      "KNN Testing RMSE: 6.1608499133841335 \n",
      " \n",
      "Decision Tree Training RMSE: 6.022860099808153e-16 \n",
      "Decision Tree Testing RMSE: 1.0912376854990709 \n",
      " \n",
      "Random Forest Training RMSE: 0.07644390686945807 \n",
      "Random Forest Testing RMSE: 1.0782632756638775 \n",
      " \n",
      "Bagging Training RMSE: 0.12493403626090883 \n",
      "Bagging Testing RMSE: 1.1045729679596406 \n",
      " \n",
      "AdaBoost Training RMSE: 2.1356369471729457 \n",
      "AdaBoost Testing RMSE: 2.0725611012414524 \n",
      " \n",
      "SVR Training RMSE: 8.341796212933463 \n",
      "SVR Testing RMSE: 9.262246496856916 \n",
      " \n",
      "XGBoost Training RMSE: 0.06830628269742853 \n",
      "XGBoost Testing RMSE: 1.0798070886311009 \n",
      " \n"
     ]
    }
   ],
   "source": [
    "from sklearn.metrics import mean_squared_error as mse\n",
    "\n",
    "for name, model in models.items():\n",
    "    y_pred_train = model.predict(X_train_scaled)\n",
    "    y_pred_test = model.predict(X_test_scaled)\n",
    "    rmse_train = mse(y_train, y_pred_train, squared=False)\n",
    "    rmse_test = mse(y_test, y_pred_test, squared=False)\n",
    "    print(f\"{name} Training RMSE: {rmse_train} \\n{name} Testing RMSE: {rmse_test} \\n \")"
   ]
  },
  {
   "cell_type": "code",
   "execution_count": 11,
   "metadata": {
    "scrolled": true
   },
   "outputs": [
    {
     "data": {
      "text/plain": [
       "[('e401k', 0.0),\n",
       " ('inc', 0.0),\n",
       " ('marr', 0.0),\n",
       " ('male', 0.0),\n",
       " ('age', 0.0),\n",
       " ('fsize', 0.0),\n",
       " ('nettfa', 0.0),\n",
       " ('p401k', 0.0),\n",
       " ('pira', 1.0000000000000004),\n",
       " ('incsq', 0.0)]"
      ]
     },
     "execution_count": 11,
     "metadata": {},
     "output_type": "execute_result"
    }
   ],
   "source": [
    "list(zip(df.columns, models['AdaBoost'].feature_importances_))"
   ]
  },
  {
   "cell_type": "markdown",
   "metadata": {},
   "source": [
    "##### 14. Based on training RMSE and testing RMSE, is there evidence of overfitting in any of your models? Which ones?"
   ]
  },
  {
   "cell_type": "markdown",
   "metadata": {},
   "source": [
    "KNN, Decision Tree, Random Forest, Bagging, SVR"
   ]
  },
  {
   "cell_type": "markdown",
   "metadata": {},
   "source": [
    "##### 15. Based on everything we've covered so far, if you had to pick just one model as your final model to use to answer the problem in front of you, which one model would you pick? Defend your choice."
   ]
  },
  {
   "cell_type": "markdown",
   "metadata": {},
   "source": [
    "AdaBoost, very slight overfitting which can be ignored but higher accuracy compared to linear regression"
   ]
  },
  {
   "cell_type": "markdown",
   "metadata": {},
   "source": [
    "##### 16. Suppose you wanted to improve the performance of your final model. Brainstorm 2-3 things that, if you had more time, you would attempt."
   ]
  },
  {
   "cell_type": "markdown",
   "metadata": {},
   "source": [
    "Tune max_depth, min_samples_split and min_samples_leaf"
   ]
  },
  {
   "cell_type": "markdown",
   "metadata": {},
   "source": [
    "## Step 4: Model the data. (Part 2: Classification Problem)\n",
    "\n",
    "Recall:\n",
    "- Problem: Predict whether or not one is eligible for a 401k.\n",
    "- When predicting `e401k`, you may use the entire dataframe if you wish.\n",
    "\n",
    "##### 17. While you're allowed to use every variable in your dataframe, mention at least one disadvantage of using `p401k` in your model."
   ]
  },
  {
   "cell_type": "markdown",
   "metadata": {},
   "source": [
    "p401k likely to be highly correlated with e401k, as if one is already participating in 401k, he/she is eligible for 401k.<br>\n",
    "Hence, it is not a very useful variable"
   ]
  },
  {
   "cell_type": "markdown",
   "metadata": {},
   "source": [
    "##### 18. List all modeling tactics we've learned that could be used to solve a classification problem (as of Wednesday afternoon of Week 6). For each tactic, identify whether it is or is not appropriate for solving this specific classification problem and explain why or why not."
   ]
  },
  {
   "cell_type": "markdown",
   "metadata": {},
   "source": [
    "- LogisticRegression\n",
    "- KNN\n",
    "- Decision Tree\n",
    "- Random Forest\n",
    "- Bagging\n",
    "- AdaBoost\n",
    "- SVC"
   ]
  },
  {
   "cell_type": "markdown",
   "metadata": {},
   "source": [
    "##### 19. Regardless of your answer to number 18, fit at least one of each of the following models to attempt to solve the classification problem above:\n",
    "    - a logistic regression model\n",
    "    - a k-nearest neighbors model\n",
    "    - a decision tree\n",
    "    - a set of bagged decision trees\n",
    "    - a random forest\n",
    "    - an Adaboost model\n",
    "    - a support vector classifier\n",
    "    \n",
    "> As always, be sure to do a train/test split! In order to compare modeling techniques, you should use the same train-test split on each. I recommend using a random seed here.\n",
    "\n",
    "> You may find it helpful to set up a pipeline to try each modeling technique, but you are not required to do so!"
   ]
  },
  {
   "cell_type": "code",
   "execution_count": 12,
   "metadata": {},
   "outputs": [],
   "source": [
    "from sklearn.linear_model import LinearRegression, LogisticRegression\n",
    "from sklearn.model_selection import train_test_split, cross_val_score, KFold\n",
    "from sklearn.preprocessing import StandardScaler\n",
    "from sklearn.pipeline import Pipeline\n",
    "from sklearn.neighbors import KNeighborsClassifier\n",
    "from sklearn.tree import DecisionTreeClassifier\n",
    "from sklearn.ensemble import RandomForestClassifier, BaggingClassifier, AdaBoostClassifier\n",
    "from sklearn.svm import SVC"
   ]
  },
  {
   "cell_type": "code",
   "execution_count": 13,
   "metadata": {},
   "outputs": [],
   "source": [
    "X = df.drop('e401k', axis=1)\n",
    "y=df['e401k']\n",
    "X_train, X_test, y_train, y_test = train_test_split(X,\n",
    "                                                    y,\n",
    "                                                    test_size=0.2,\n",
    "                                                    random_state=42)"
   ]
  },
  {
   "cell_type": "code",
   "execution_count": 14,
   "metadata": {},
   "outputs": [],
   "source": [
    "# Scaling\n",
    "ss=StandardScaler()\n",
    "X_train_scaled=ss.fit_transform(X_train)\n",
    "X_test_scaled=ss.fit_transform(X_test)"
   ]
  },
  {
   "cell_type": "code",
   "execution_count": 15,
   "metadata": {},
   "outputs": [],
   "source": [
    "models = {\"LogisticRegression\": LogisticRegression(),\n",
    "          \"KNN\": KNeighborsClassifier(),\n",
    "          \"Decision Tree\": DecisionTreeClassifier(),\n",
    "          \"Random Forest\": RandomForestClassifier(),\n",
    "          \"Bagging\": BaggingClassifier(),\n",
    "          \"AdaBoost\": AdaBoostClassifier(),\n",
    "          \"SVC\": SVC(),\n",
    "          \"XGBoost\": xgb.XGBClassifier()\n",
    "         }"
   ]
  },
  {
   "cell_type": "code",
   "execution_count": 16,
   "metadata": {},
   "outputs": [],
   "source": [
    "results = []\n",
    "for model in models.values():\n",
    "    kf = KFold(n_splits=5, random_state=42, shuffle=True)\n",
    "    cv_results = cross_val_score(model, X_train_scaled, y_train, cv=kf)\n",
    "    results.append(cv_results)"
   ]
  },
  {
   "cell_type": "code",
   "execution_count": 17,
   "metadata": {},
   "outputs": [
    {
     "data": {
      "text/plain": [
       "[array([0.89218329, 0.88005391, 0.89285714, 0.87735849, 0.87668464]),\n",
       " array([0.87398922, 0.85444744, 0.87398922, 0.85714286, 0.85983827]),\n",
       " array([0.80256065, 0.79514825, 0.81266846, 0.80660377, 0.80458221]),\n",
       " array([0.88477089, 0.87264151, 0.89016173, 0.87533693, 0.86792453]),\n",
       " array([0.87601078, 0.86455526, 0.87938005, 0.86792453, 0.86522911]),\n",
       " array([0.89218329, 0.88005391, 0.89285714, 0.87601078, 0.87668464]),\n",
       " array([0.89150943, 0.87735849, 0.89150943, 0.87601078, 0.87601078]),\n",
       " array([0.88140162, 0.86590296, 0.88342318, 0.86725067, 0.86455526])]"
      ]
     },
     "execution_count": 17,
     "metadata": {},
     "output_type": "execute_result"
    }
   ],
   "source": [
    "results"
   ]
  },
  {
   "cell_type": "code",
   "execution_count": 18,
   "metadata": {},
   "outputs": [
    {
     "name": "stdout",
     "output_type": "stream",
     "text": [
      "LogisticRegression Train Set Accuracy: 0.8838274932614555 \n",
      "LogisticRegression Test Set Accuracy: 0.8851752021563343 \n",
      " \n",
      "KNN Train Set Accuracy: 0.8943396226415095 \n",
      "KNN Test Set Accuracy: 0.8609164420485175 \n",
      " \n",
      "Decision Tree Train Set Accuracy: 1.0 \n",
      "Decision Tree Test Set Accuracy: 0.7800539083557951 \n",
      " \n",
      "Random Forest Train Set Accuracy: 1.0 \n",
      "Random Forest Test Set Accuracy: 0.8787061994609164 \n",
      " \n",
      "Bagging Train Set Accuracy: 0.9827493261455525 \n",
      "Bagging Test Set Accuracy: 0.8652291105121294 \n",
      " \n",
      "AdaBoost Train Set Accuracy: 0.8846361185983828 \n",
      "AdaBoost Test Set Accuracy: 0.8846361185983828 \n",
      " \n",
      "SVC Train Set Accuracy: 0.8842318059299191 \n",
      "SVC Test Set Accuracy: 0.8857142857142857 \n",
      " \n",
      "XGBoost Train Set Accuracy: 0.9311320754716981 \n",
      "XGBoost Test Set Accuracy: 0.8754716981132076 \n",
      " \n"
     ]
    }
   ],
   "source": [
    "for name, model in models.items():\n",
    "    model.fit(X_train_scaled, y_train)\n",
    "    train_score = model.score(X_train_scaled, y_train)\n",
    "    test_score = model.score(X_test_scaled, y_test)\n",
    "    print(f\"{name} Train Set Accuracy: {train_score} \\n{name} Test Set Accuracy: {test_score} \\n \")"
   ]
  },
  {
   "cell_type": "code",
   "execution_count": 19,
   "metadata": {
    "scrolled": false
   },
   "outputs": [
    {
     "data": {
      "image/png": "[encoded data removed]",
      "text/plain": [
       "<Figure size 432x288 with 1 Axes>"
      ]
     },
     "metadata": {
      "needs_background": "light"
     },
     "output_type": "display_data"
    }
   ],
   "source": [
    "plt.boxplot(results, labels=models.keys())\n",
    "plt.show()"
   ]
  },
  {
   "cell_type": "code",
   "execution_count": 20,
   "metadata": {
    "scrolled": true
   },
   "outputs": [
    {
     "name": "stdout",
     "output_type": "stream",
     "text": [
      "LogisticRegression y_pred_train: 0.2765498652291105\n",
      "    LogisticRegression y_pred_test RMSE: 0.2749326145552561\n",
      "    LogisticRegression Training RMSE: 0.34084088184744576\n",
      "    LogisticRegressionTesting RMSE: 0.3388580792067171\n",
      "\n",
      "KNN y_pred_train: 0.30835579514824796\n",
      "    KNN y_pred_test RMSE: 0.31212938005390833\n",
      "    KNN Training RMSE: 0.3250544221488004\n",
      "    KNNTesting RMSE: 0.3729390807511094\n",
      "\n",
      "Decision Tree y_pred_train: 0.39272237196765497\n",
      "    Decision Tree y_pred_test RMSE: 0.42749326145552563\n",
      "    Decision Tree Training RMSE: 0.0\n",
      "    Decision TreeTesting RMSE: 0.46898410596117734\n",
      "\n",
      "Random Forest y_pred_train: 0.39272237196765497\n",
      "    Random Forest y_pred_test RMSE: 0.28679245283018867\n",
      "    Random Forest Training RMSE: 0.0\n",
      "    Random ForestTesting RMSE: 0.34827259515942904\n",
      "\n",
      "Bagging y_pred_train: 0.3757412398921833\n",
      "    Bagging y_pred_test RMSE: 0.30566037735849055\n",
      "    Bagging Training RMSE: 0.13134182066062372\n",
      "    BaggingTesting RMSE: 0.36711154910717614\n",
      "\n",
      "AdaBoost y_pred_train: 0.27735849056603773\n",
      "    AdaBoost y_pred_test RMSE: 0.27547169811320754\n",
      "    AdaBoost Training RMSE: 0.33965258927559683\n",
      "    AdaBoostTesting RMSE: 0.33965258927559683\n",
      "\n",
      "SVC y_pred_train: 0.27695417789757415\n",
      "    SVC y_pred_test RMSE: 0.27547169811320754\n",
      "    SVC Training RMSE: 0.34024725431674074\n",
      "    SVCTesting RMSE: 0.3380617018914066\n",
      "\n",
      "XGBoost y_pred_train: 0.32493261455525607\n",
      "    XGBoost y_pred_test RMSE: 0.29649595687331537\n",
      "    XGBoost Training RMSE: 0.26242698894797745\n",
      "    XGBoostTesting RMSE: 0.352885678211503\n",
      "\n"
     ]
    }
   ],
   "source": [
    "from sklearn.metrics import mean_squared_error as mse\n",
    "\n",
    "for name, model in models.items():\n",
    "    y_pred_train = model.predict(X_train_scaled)\n",
    "    y_pred_test = model.predict(X_test_scaled)\n",
    "    rmse_train = mse(y_train, y_pred_train, squared=False)\n",
    "    rmse_test = mse(y_test, y_pred_test, squared=False)\n",
    "    print(f\"{name} y_pred_train: {y_pred_train.mean()}\\n\\\n",
    "    {name} y_pred_test RMSE: {y_pred_test.mean()}\\n\\\n",
    "    {name} Training RMSE: {rmse_train}\\n\\\n",
    "    {name}Testing RMSE: {rmse_test}\\n\")"
   ]
  },
  {
   "cell_type": "markdown",
   "metadata": {},
   "source": [
    "## Step 5: Evaluate the model. (Part 2: Classfication Problem)\n",
    "\n",
    "##### 20. Suppose our \"positive\" class is that someone is eligible for a 401(k). What are our false positives? What are our false negatives?"
   ]
  },
  {
   "cell_type": "markdown",
   "metadata": {},
   "source": [
    "false positives: someone we predicted as eligible but is in fact not eligible<br>\n",
    "false negatives: someone we predicted as not eligible but is in fact eligible"
   ]
  },
  {
   "cell_type": "markdown",
   "metadata": {},
   "source": [
    "##### 21. In this specific case, would we rather minimize false positives or minimize false negatives? Defend your choice."
   ]
  },
  {
   "cell_type": "markdown",
   "metadata": {},
   "source": [
    "minimize false positives, so that we do not waste resources targeting at the wrong audience."
   ]
  },
  {
   "cell_type": "markdown",
   "metadata": {},
   "source": [
    "##### 22. Suppose we wanted to optimize for the answer you provided in problem 21. Which metric would we optimize in this case?"
   ]
  },
  {
   "cell_type": "markdown",
   "metadata": {},
   "source": [
    "Increase precision and specificity "
   ]
  },
  {
   "cell_type": "markdown",
   "metadata": {},
   "source": [
    "##### 23. Suppose that instead of optimizing for the metric in problem 21, we wanted to balance our false positives and false negatives using `f1-score`. Why might [f1-score](https://en.wikipedia.org/wiki/F1_score) be an appropriate metric to use here?"
   ]
  },
  {
   "cell_type": "markdown",
   "metadata": {},
   "source": [
    "F1 score is a harmonic mean of precision and recall."
   ]
  },
  {
   "cell_type": "markdown",
   "metadata": {},
   "source": [
    "##### 24. Using f1-score, evaluate each of the models you fit on both the training and testing data."
   ]
  },
  {
   "cell_type": "code",
   "execution_count": 21,
   "metadata": {},
   "outputs": [],
   "source": [
    "from sklearn.metrics import confusion_matrix, plot_confusion_matrix, accuracy_score, plot_roc_curve, roc_auc_score, recall_score, precision_score, f1_score"
   ]
  },
  {
   "cell_type": "code",
   "execution_count": 22,
   "metadata": {},
   "outputs": [
    {
     "name": "stdout",
     "output_type": "stream",
     "text": [
      "LogisticRegression y_pred_train: 0.2765498652291105\n",
      "    LogisticRegression f1_score: 0.8264196536447845\n",
      "    LogisticRegression y_pred_test: 0.2749326145552561\n",
      "    LogisticRegression f1_score: 0.8272506082725061\n",
      "\n",
      "KNN y_pred_train: 0.30835579514824796\n",
      "    KNN f1_score: 0.8492887351018839\n",
      "    KNN y_pred_test: 0.31212938005390833\n",
      "    KNN f1_score: 0.8018433179723502\n",
      "\n",
      "Decision Tree y_pred_train: 0.39272237196765497\n",
      "    Decision Tree f1_score: 1.0\n",
      "    Decision Tree y_pred_test: 0.42749326145552563\n",
      "    Decision Tree f1_score: 0.7308707124010554\n",
      "\n",
      "Random Forest y_pred_train: 0.39272237196765497\n",
      "    Random Forest f1_score: 1.0\n",
      "    Random Forest y_pred_test: 0.28679245283018867\n",
      "    Random Forest f1_score: 0.8207171314741036\n",
      "\n",
      "Bagging y_pred_train: 0.3757412398921833\n",
      "    Bagging f1_score: 0.9775517362329007\n",
      "    Bagging y_pred_test: 0.30566037735849055\n",
      "    Bagging f1_score: 0.8062015503875968\n",
      "\n",
      "AdaBoost y_pred_train: 0.27735849056603773\n",
      "    AdaBoost f1_score: 0.827835880933226\n",
      "    AdaBoost y_pred_test: 0.27547169811320754\n",
      "    AdaBoost f1_score: 0.8265802269043759\n",
      "\n",
      "SVC y_pred_train: 0.27695417789757415\n",
      "    SVC f1_score: 0.8271281948078083\n",
      "    SVC y_pred_test: 0.27547169811320754\n",
      "    SVC f1_score: 0.8282009724473257\n",
      "\n",
      "XGBoost y_pred_train: 0.32493261455525607\n",
      "    XGBoost f1_score: 0.904037558685446\n",
      "    XGBoost y_pred_test: 0.29649595687331537\n",
      "    XGBoost f1_score: 0.8185388845247445\n",
      "\n"
     ]
    }
   ],
   "source": [
    "for name, model in models.items():\n",
    "    y_pred_train = model.predict(X_train_scaled)\n",
    "    y_pred_test = model.predict(X_test_scaled)\n",
    "    print(f\"{name} y_pred_train: {y_pred_train.mean()}\\n\\\n",
    "    {name} f1_score: {f1_score(y_train, y_pred_train)}\\n\\\n",
    "    {name} y_pred_test: {y_pred_test.mean()}\\n\\\n",
    "    {name} f1_score: {f1_score(y_test, y_pred_test)}\\n\")"
   ]
  },
  {
   "cell_type": "code",
   "execution_count": 23,
   "metadata": {},
   "outputs": [],
   "source": [
    "y_pred_AdaBoost = models['AdaBoost'].predict(X_test_scaled)"
   ]
  },
  {
   "cell_type": "code",
   "execution_count": 24,
   "metadata": {
    "scrolled": true
   },
   "outputs": [
    {
     "data": {
      "text/plain": [
       "array([[1131,    1],\n",
       "       [ 213,  510]], dtype=int64)"
      ]
     },
     "execution_count": 24,
     "metadata": {},
     "output_type": "execute_result"
    }
   ],
   "source": [
    "# Generate confusion matrix\n",
    "confusion_matrix(y_test, \n",
    "                 y_pred_AdaBoost)"
   ]
  },
  {
   "cell_type": "code",
   "execution_count": 25,
   "metadata": {
    "scrolled": false
   },
   "outputs": [
    {
     "name": "stderr",
     "output_type": "stream",
     "text": [
      "C:\\Users\\ng_li\\anaconda3\\lib\\site-packages\\sklearn\\utils\\deprecation.py:87: FutureWarning: Function plot_confusion_matrix is deprecated; Function `plot_confusion_matrix` is deprecated in 1.0 and will be removed in 1.2. Use one of the class methods: ConfusionMatrixDisplay.from_predictions or ConfusionMatrixDisplay.from_estimator.\n",
      "  warnings.warn(msg, category=FutureWarning)\n"
     ]
    },
    {
     "data": {
      "image/png": "[encoded data removed]",
      "text/plain": [
       "<Figure size 432x288 with 2 Axes>"
      ]
     },
     "metadata": {
      "needs_background": "light"
     },
     "output_type": "display_data"
    }
   ],
   "source": [
    "plot_confusion_matrix(models['AdaBoost'], X_test_scaled, y_test, cmap='Blues', \n",
    "                      values_format='d', display_labels=['eligible', 'ineligible']);"
   ]
  },
  {
   "cell_type": "code",
   "execution_count": 26,
   "metadata": {},
   "outputs": [
    {
     "data": {
      "text/plain": [
       "0.8265802269043759"
      ]
     },
     "execution_count": 26,
     "metadata": {},
     "output_type": "execute_result"
    }
   ],
   "source": [
    "f1_score(y_test, y_pred_AdaBoost)"
   ]
  },
  {
   "cell_type": "markdown",
   "metadata": {},
   "source": [
    "##### 25. Based on training f1-score and testing f1-score, is there evidence of overfitting in any of your models? Which ones?"
   ]
  },
  {
   "cell_type": "markdown",
   "metadata": {},
   "source": [
    "KNN, DecisionTree, RandomForest, Bagging, AdBoost, XGBoost"
   ]
  },
  {
   "cell_type": "markdown",
   "metadata": {},
   "source": [
    "##### 26. Based on everything we've covered so far, if you had to pick just one model as your final model to use to answer the problem in front of you, which one model would you pick? Defend your choice."
   ]
  },
  {
   "cell_type": "markdown",
   "metadata": {},
   "source": [
    "AdBoost and SVC produce very similar accuracy score and overfitting trade-off.<br>\n",
    "Given that SVC has slower processing when the data is huge, I would choose ADboost over SVC."
   ]
  },
  {
   "cell_type": "markdown",
   "metadata": {},
   "source": [
    "##### 27. Suppose you wanted to improve the performance of your final model. Brainstorm 2-3 things that, if you had more time, you would attempt."
   ]
  },
  {
   "cell_type": "markdown",
   "metadata": {},
   "source": [
    "Tune n_estimators and learning_rate"
   ]
  },
  {
   "cell_type": "markdown",
   "metadata": {},
   "source": [
    "## Step 6: Answer the problem.\n",
    "\n",
    "##### BONUS: Briefly summarize your answers to the regression and classification problems. Be sure to include any limitations or hesitations in your answer.\n",
    "\n",
    "- Regression: What features best predict one's income?\n",
    "- Classification: Predict whether or not one is eligible for a 401k."
   ]
  },
  {
   "cell_type": "markdown",
   "metadata": {},
   "source": [
    "- Regression: What features best predict one's income?<br>\n",
    "family size"
   ]
  }
 ],
 "metadata": {
  "kernelspec": {
   "display_name": "Python 3 (ipykernel)",
   "language": "python",
   "name": "python3"
  },
  "language_info": {
   "codemirror_mode": {
    "name": "ipython",
    "version": 3
   },
   "file_extension": ".py",
   "mimetype": "text/x-python",
   "name": "python",
   "nbconvert_exporter": "python",
   "pygments_lexer": "ipython3",
   "version": "3.9.12"
  }
 },
 "nbformat": 4,
 "nbformat_minor": 2
}
